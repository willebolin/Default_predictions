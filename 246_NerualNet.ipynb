{
 "cells": [
  {
   "cell_type": "code",
   "execution_count": 1,
   "metadata": {},
   "outputs": [
    {
     "ename": "ModuleNotFoundError",
     "evalue": "No module named 'keras'",
     "output_type": "error",
     "traceback": [
      "\u001b[0;31m---------------------------------------------------------------------------\u001b[0m",
      "\u001b[0;31mModuleNotFoundError\u001b[0m                       Traceback (most recent call last)",
      "\u001b[0;32m<ipython-input-1-1aba1c764d4b>\u001b[0m in \u001b[0;36m<module>\u001b[0;34m\u001b[0m\n\u001b[1;32m      2\u001b[0m \u001b[0;32mimport\u001b[0m \u001b[0mnumpy\u001b[0m \u001b[0;32mas\u001b[0m \u001b[0mnp\u001b[0m\u001b[0;34m\u001b[0m\u001b[0;34m\u001b[0m\u001b[0m\n\u001b[1;32m      3\u001b[0m \u001b[0;32mfrom\u001b[0m \u001b[0msklearn\u001b[0m\u001b[0;34m.\u001b[0m\u001b[0mmodel_selection\u001b[0m \u001b[0;32mimport\u001b[0m \u001b[0mtrain_test_split\u001b[0m\u001b[0;34m\u001b[0m\u001b[0;34m\u001b[0m\u001b[0m\n\u001b[0;32m----> 4\u001b[0;31m \u001b[0;32mfrom\u001b[0m \u001b[0mkeras\u001b[0m\u001b[0;34m.\u001b[0m\u001b[0mmodels\u001b[0m \u001b[0;32mimport\u001b[0m \u001b[0mload_model\u001b[0m\u001b[0;34m\u001b[0m\u001b[0;34m\u001b[0m\u001b[0m\n\u001b[0m\u001b[1;32m      5\u001b[0m \u001b[0;32mfrom\u001b[0m \u001b[0mdatetime\u001b[0m \u001b[0;32mimport\u001b[0m \u001b[0mdate\u001b[0m\u001b[0;34m\u001b[0m\u001b[0;34m\u001b[0m\u001b[0m\n\u001b[1;32m      6\u001b[0m \u001b[0;32mfrom\u001b[0m \u001b[0mkeras\u001b[0m\u001b[0;34m.\u001b[0m\u001b[0mutils\u001b[0m \u001b[0;32mimport\u001b[0m \u001b[0mnp_utils\u001b[0m\u001b[0;34m\u001b[0m\u001b[0;34m\u001b[0m\u001b[0m\n",
      "\u001b[0;31mModuleNotFoundError\u001b[0m: No module named 'keras'"
     ]
    }
   ],
   "source": [
    "import pandas as pd\n",
    "import numpy as np\n",
    "from sklearn.model_selection import train_test_split\n",
    "from keras.models import load_model\n",
    "from datetime import date\n",
    "from keras.utils import np_utils\n",
    "from keras import regularizers\n",
    "import datetime\n",
    "from keras.models import Sequential\n",
    "from keras.layers import Dense, Activation\n",
    "from keras.callbacks import ModelCheckpoint\n",
    "from keras.wrappers.scikit_learn import KerasClassifier\n",
    "from keras.wrappers.scikit_learn import KerasRegressor\n",
    "from sklearn.model_selection import KFold\n",
    "from sklearn.model_selection import cross_val_score\n",
    "from sklearn.preprocessing import LabelEncoder\n",
    "from sklearn.pipeline import Pipeline\n",
    "import seaborn as sns\n",
    "import matplotlib.pyplot as plt\n",
    "from sklearn.preprocessing import normalize\n",
    "import time\n",
    "from keras.layers import Input, Dense\n",
    "from keras.models import Model\n",
    "from sklearn.metrics import mean_squared_error\n",
    "from keras.optimizers import SGD\n",
    "from sklearn import linear_model\n",
    "import keras.optimizers\n",
    "from sklearn.metrics import roc_curve, auc\n",
    "import os \n",
    "\n",
    "%matplotlib inline"
   ]
  },
  {
   "cell_type": "markdown",
   "metadata": {},
   "source": [
    "Load dataset & visualize null values"
   ]
  },
  {
   "cell_type": "code",
   "execution_count": 2,
   "metadata": {},
   "outputs": [],
   "source": [
    "os.chdir(r\"C:\\Users\\wille\\OneDrive\\Documents\\Studier\\STANFORD\\Schoolwork\\19 - Winter\\MS&E246\\project\")"
   ]
  },
  {
   "cell_type": "code",
   "execution_count": 70,
   "metadata": {},
   "outputs": [],
   "source": [
    "data = pd.read_csv(\"NEWDATA.csv\",low_memory=False)"
   ]
  },
  {
   "cell_type": "code",
   "execution_count": 71,
   "metadata": {},
   "outputs": [],
   "source": [
    "def visualise_null(data):\n",
    "    sns.set(font_scale=1.3)\n",
    "    fig, ax = plt.subplots(figsize=(20,15))\n",
    "    sns.heatmap(data.isnull(), yticklabels=False, cbar=False, cmap='viridis')\n",
    "    plt.xticks(range(len(data.columns)), data.columns, rotation=60)\n",
    "    plt.show()"
   ]
  },
  {
   "cell_type": "code",
   "execution_count": 72,
   "metadata": {},
   "outputs": [],
   "source": [
    "#visualise_null(data)"
   ]
  },
  {
   "cell_type": "code",
   "execution_count": 73,
   "metadata": {},
   "outputs": [],
   "source": [
    "data = data.dropna(axis='columns')"
   ]
  },
  {
   "cell_type": "code",
   "execution_count": 74,
   "metadata": {},
   "outputs": [],
   "source": [
    "data = data.dropna(axis='rows')"
   ]
  },
  {
   "cell_type": "code",
   "execution_count": 75,
   "metadata": {},
   "outputs": [
    {
     "data": {
      "text/plain": [
       "(1492371, 36)"
      ]
     },
     "execution_count": 75,
     "metadata": {},
     "output_type": "execute_result"
    }
   ],
   "source": [
    "data.shape"
   ]
  },
  {
   "cell_type": "code",
   "execution_count": 76,
   "metadata": {},
   "outputs": [],
   "source": [
    "#Re-runn the code from here when there are changes made to the categories!!! \n",
    "df_temp = data.copy()"
   ]
  },
  {
   "cell_type": "markdown",
   "metadata": {},
   "source": [
    "15 appropriate features (see milestone proposal for info)"
   ]
  },
  {
   "cell_type": "code",
   "execution_count": 77,
   "metadata": {},
   "outputs": [],
   "source": [
    "APPLICANT_NUMERIC = ['LogGrossApproval', 'TermInMonths','HPI_Borrower', 'UnemploymentRateBorrState', 'HPI_Borrower', 'LogSP500', 'LiborRate']\n",
    "\n",
    "APPLICANT_CATEGORICAL = ['ApprovalFiscalYear', 'BusinessType', 'LoanYear', 'TPDBinary', 'BusinessType']\n",
    "\n",
    "LABEL = ['Default']\n",
    "\n",
    "COLUMNS_USED = APPLICANT_NUMERIC + APPLICANT_CATEGORICAL + LABEL"
   ]
  },
  {
   "cell_type": "code",
   "execution_count": 78,
   "metadata": {},
   "outputs": [
    {
     "data": {
      "text/plain": [
       "(1492371, 13)"
      ]
     },
     "execution_count": 78,
     "metadata": {},
     "output_type": "execute_result"
    }
   ],
   "source": [
    "df_temp = df_temp.loc[:, COLUMNS_USED]\n",
    "df_temp = df_temp.reset_index(drop=True)\n",
    "df_temp.shape"
   ]
  },
  {
   "cell_type": "code",
   "execution_count": 79,
   "metadata": {},
   "outputs": [],
   "source": [
    "df = df_temp.copy()"
   ]
  },
  {
   "cell_type": "markdown",
   "metadata": {},
   "source": [
    "Encode categorical data into numeric"
   ]
  },
  {
   "cell_type": "code",
   "execution_count": 80,
   "metadata": {},
   "outputs": [],
   "source": [
    "#One hot encoding\n",
    "columns=['ApprovalFiscalYear', 'BusinessType', 'LoanYear', 'TPDBinary', 'BusinessType']\n",
    "\n",
    "df = pd.get_dummies(df, columns=columns)"
   ]
  },
  {
   "cell_type": "code",
   "execution_count": 81,
   "metadata": {},
   "outputs": [
    {
     "data": {
      "text/html": [
       "<div>\n",
       "<style scoped>\n",
       "    .dataframe tbody tr th:only-of-type {\n",
       "        vertical-align: middle;\n",
       "    }\n",
       "\n",
       "    .dataframe tbody tr th {\n",
       "        vertical-align: top;\n",
       "    }\n",
       "\n",
       "    .dataframe thead th {\n",
       "        text-align: right;\n",
       "    }\n",
       "</style>\n",
       "<table border=\"1\" class=\"dataframe\">\n",
       "  <thead>\n",
       "    <tr style=\"text-align: right;\">\n",
       "      <th></th>\n",
       "      <th>LogGrossApproval</th>\n",
       "      <th>TermInMonths</th>\n",
       "      <th>HPI_Borrower</th>\n",
       "      <th>UnemploymentRateBorrState</th>\n",
       "      <th>HPI_Borrower</th>\n",
       "      <th>LogSP500</th>\n",
       "      <th>LiborRate</th>\n",
       "      <th>Default</th>\n",
       "      <th>ApprovalFiscalYear_1990</th>\n",
       "      <th>ApprovalFiscalYear_1991</th>\n",
       "      <th>...</th>\n",
       "      <th>TPDBinary_0</th>\n",
       "      <th>TPDBinary_1</th>\n",
       "      <th>BusinessType_BLANK</th>\n",
       "      <th>BusinessType_CORPORATION</th>\n",
       "      <th>BusinessType_INDIVIDUAL</th>\n",
       "      <th>BusinessType_PARTNERSHIP</th>\n",
       "      <th>BusinessType_BLANK</th>\n",
       "      <th>BusinessType_CORPORATION</th>\n",
       "      <th>BusinessType_INDIVIDUAL</th>\n",
       "      <th>BusinessType_PARTNERSHIP</th>\n",
       "    </tr>\n",
       "  </thead>\n",
       "  <tbody>\n",
       "    <tr>\n",
       "      <th>0</th>\n",
       "      <td>12.019743</td>\n",
       "      <td>12</td>\n",
       "      <td>192.64</td>\n",
       "      <td>4.1</td>\n",
       "      <td>192.64</td>\n",
       "      <td>5.885243</td>\n",
       "      <td>8.38</td>\n",
       "      <td>0</td>\n",
       "      <td>1</td>\n",
       "      <td>0</td>\n",
       "      <td>...</td>\n",
       "      <td>1</td>\n",
       "      <td>0</td>\n",
       "      <td>0</td>\n",
       "      <td>0</td>\n",
       "      <td>1</td>\n",
       "      <td>0</td>\n",
       "      <td>0</td>\n",
       "      <td>0</td>\n",
       "      <td>1</td>\n",
       "      <td>0</td>\n",
       "    </tr>\n",
       "    <tr>\n",
       "      <th>1</th>\n",
       "      <td>11.669929</td>\n",
       "      <td>240</td>\n",
       "      <td>169.35</td>\n",
       "      <td>5.2</td>\n",
       "      <td>169.35</td>\n",
       "      <td>5.885243</td>\n",
       "      <td>8.38</td>\n",
       "      <td>0</td>\n",
       "      <td>1</td>\n",
       "      <td>0</td>\n",
       "      <td>...</td>\n",
       "      <td>1</td>\n",
       "      <td>0</td>\n",
       "      <td>0</td>\n",
       "      <td>0</td>\n",
       "      <td>1</td>\n",
       "      <td>0</td>\n",
       "      <td>0</td>\n",
       "      <td>0</td>\n",
       "      <td>1</td>\n",
       "      <td>0</td>\n",
       "    </tr>\n",
       "    <tr>\n",
       "      <th>2</th>\n",
       "      <td>11.669929</td>\n",
       "      <td>240</td>\n",
       "      <td>169.70</td>\n",
       "      <td>8.0</td>\n",
       "      <td>169.70</td>\n",
       "      <td>5.752382</td>\n",
       "      <td>7.94</td>\n",
       "      <td>0</td>\n",
       "      <td>1</td>\n",
       "      <td>0</td>\n",
       "      <td>...</td>\n",
       "      <td>1</td>\n",
       "      <td>0</td>\n",
       "      <td>0</td>\n",
       "      <td>0</td>\n",
       "      <td>1</td>\n",
       "      <td>0</td>\n",
       "      <td>0</td>\n",
       "      <td>0</td>\n",
       "      <td>1</td>\n",
       "      <td>0</td>\n",
       "    </tr>\n",
       "    <tr>\n",
       "      <th>3</th>\n",
       "      <td>11.669929</td>\n",
       "      <td>240</td>\n",
       "      <td>171.02</td>\n",
       "      <td>9.7</td>\n",
       "      <td>171.02</td>\n",
       "      <td>5.964093</td>\n",
       "      <td>5.13</td>\n",
       "      <td>0</td>\n",
       "      <td>1</td>\n",
       "      <td>0</td>\n",
       "      <td>...</td>\n",
       "      <td>1</td>\n",
       "      <td>0</td>\n",
       "      <td>0</td>\n",
       "      <td>0</td>\n",
       "      <td>1</td>\n",
       "      <td>0</td>\n",
       "      <td>0</td>\n",
       "      <td>0</td>\n",
       "      <td>1</td>\n",
       "      <td>0</td>\n",
       "    </tr>\n",
       "    <tr>\n",
       "      <th>4</th>\n",
       "      <td>11.669929</td>\n",
       "      <td>240</td>\n",
       "      <td>171.21</td>\n",
       "      <td>9.3</td>\n",
       "      <td>171.21</td>\n",
       "      <td>6.017303</td>\n",
       "      <td>3.00</td>\n",
       "      <td>0</td>\n",
       "      <td>1</td>\n",
       "      <td>0</td>\n",
       "      <td>...</td>\n",
       "      <td>1</td>\n",
       "      <td>0</td>\n",
       "      <td>0</td>\n",
       "      <td>0</td>\n",
       "      <td>1</td>\n",
       "      <td>0</td>\n",
       "      <td>0</td>\n",
       "      <td>0</td>\n",
       "      <td>1</td>\n",
       "      <td>0</td>\n",
       "    </tr>\n",
       "  </tbody>\n",
       "</table>\n",
       "<p>5 rows × 76 columns</p>\n",
       "</div>"
      ],
      "text/plain": [
       "   LogGrossApproval  TermInMonths  HPI_Borrower  UnemploymentRateBorrState  \\\n",
       "0         12.019743            12        192.64                        4.1   \n",
       "1         11.669929           240        169.35                        5.2   \n",
       "2         11.669929           240        169.70                        8.0   \n",
       "3         11.669929           240        171.02                        9.7   \n",
       "4         11.669929           240        171.21                        9.3   \n",
       "\n",
       "   HPI_Borrower  LogSP500  LiborRate  Default  ApprovalFiscalYear_1990  \\\n",
       "0        192.64  5.885243       8.38        0                        1   \n",
       "1        169.35  5.885243       8.38        0                        1   \n",
       "2        169.70  5.752382       7.94        0                        1   \n",
       "3        171.02  5.964093       5.13        0                        1   \n",
       "4        171.21  6.017303       3.00        0                        1   \n",
       "\n",
       "   ApprovalFiscalYear_1991  ...  TPDBinary_0  TPDBinary_1  BusinessType_BLANK  \\\n",
       "0                        0  ...            1            0                   0   \n",
       "1                        0  ...            1            0                   0   \n",
       "2                        0  ...            1            0                   0   \n",
       "3                        0  ...            1            0                   0   \n",
       "4                        0  ...            1            0                   0   \n",
       "\n",
       "   BusinessType_CORPORATION  BusinessType_INDIVIDUAL  \\\n",
       "0                         0                        1   \n",
       "1                         0                        1   \n",
       "2                         0                        1   \n",
       "3                         0                        1   \n",
       "4                         0                        1   \n",
       "\n",
       "   BusinessType_PARTNERSHIP  BusinessType_BLANK  BusinessType_CORPORATION  \\\n",
       "0                         0                   0                         0   \n",
       "1                         0                   0                         0   \n",
       "2                         0                   0                         0   \n",
       "3                         0                   0                         0   \n",
       "4                         0                   0                         0   \n",
       "\n",
       "   BusinessType_INDIVIDUAL  BusinessType_PARTNERSHIP  \n",
       "0                        1                         0  \n",
       "1                        1                         0  \n",
       "2                        1                         0  \n",
       "3                        1                         0  \n",
       "4                        1                         0  \n",
       "\n",
       "[5 rows x 76 columns]"
      ]
     },
     "execution_count": 81,
     "metadata": {},
     "output_type": "execute_result"
    }
   ],
   "source": [
    "df.head()"
   ]
  },
  {
   "cell_type": "code",
   "execution_count": 82,
   "metadata": {},
   "outputs": [],
   "source": [
    "df = df.apply(pd.to_numeric)"
   ]
  },
  {
   "cell_type": "code",
   "execution_count": 83,
   "metadata": {},
   "outputs": [],
   "source": [
    "#Normalize\n",
    "normalize_cols = ['LogGrossApproval', 'TermInMonths','HPI_Borrower', 'UnemploymentRateBorrState', 'HPI_Borrower', 'LogSP500', 'LiborRate']"
   ]
  },
  {
   "cell_type": "code",
   "execution_count": 84,
   "metadata": {},
   "outputs": [],
   "source": [
    "df[normalize_cols] = normalize(df[normalize_cols], axis=0)"
   ]
  },
  {
   "cell_type": "code",
   "execution_count": 85,
   "metadata": {},
   "outputs": [
    {
     "data": {
      "text/html": [
       "<div>\n",
       "<style scoped>\n",
       "    .dataframe tbody tr th:only-of-type {\n",
       "        vertical-align: middle;\n",
       "    }\n",
       "\n",
       "    .dataframe tbody tr th {\n",
       "        vertical-align: top;\n",
       "    }\n",
       "\n",
       "    .dataframe thead th {\n",
       "        text-align: right;\n",
       "    }\n",
       "</style>\n",
       "<table border=\"1\" class=\"dataframe\">\n",
       "  <thead>\n",
       "    <tr style=\"text-align: right;\">\n",
       "      <th></th>\n",
       "      <th>LogGrossApproval</th>\n",
       "      <th>TermInMonths</th>\n",
       "      <th>HPI_Borrower</th>\n",
       "      <th>UnemploymentRateBorrState</th>\n",
       "      <th>HPI_Borrower</th>\n",
       "      <th>LogSP500</th>\n",
       "      <th>LiborRate</th>\n",
       "      <th>Default</th>\n",
       "      <th>ApprovalFiscalYear_1990</th>\n",
       "      <th>ApprovalFiscalYear_1991</th>\n",
       "      <th>...</th>\n",
       "      <th>TPDBinary_0</th>\n",
       "      <th>TPDBinary_1</th>\n",
       "      <th>BusinessType_BLANK</th>\n",
       "      <th>BusinessType_CORPORATION</th>\n",
       "      <th>BusinessType_INDIVIDUAL</th>\n",
       "      <th>BusinessType_PARTNERSHIP</th>\n",
       "      <th>BusinessType_BLANK</th>\n",
       "      <th>BusinessType_CORPORATION</th>\n",
       "      <th>BusinessType_INDIVIDUAL</th>\n",
       "      <th>BusinessType_PARTNERSHIP</th>\n",
       "    </tr>\n",
       "  </thead>\n",
       "  <tbody>\n",
       "    <tr>\n",
       "      <th>0</th>\n",
       "      <td>0.000771</td>\n",
       "      <td>0.000041</td>\n",
       "      <td>0.000829</td>\n",
       "      <td>0.000475</td>\n",
       "      <td>0.000829</td>\n",
       "      <td>0.000682</td>\n",
       "      <td>0.002130</td>\n",
       "      <td>0</td>\n",
       "      <td>1</td>\n",
       "      <td>0</td>\n",
       "      <td>...</td>\n",
       "      <td>1</td>\n",
       "      <td>0</td>\n",
       "      <td>0</td>\n",
       "      <td>0</td>\n",
       "      <td>1</td>\n",
       "      <td>0</td>\n",
       "      <td>0</td>\n",
       "      <td>0</td>\n",
       "      <td>1</td>\n",
       "      <td>0</td>\n",
       "    </tr>\n",
       "    <tr>\n",
       "      <th>1</th>\n",
       "      <td>0.000749</td>\n",
       "      <td>0.000829</td>\n",
       "      <td>0.000729</td>\n",
       "      <td>0.000603</td>\n",
       "      <td>0.000729</td>\n",
       "      <td>0.000682</td>\n",
       "      <td>0.002130</td>\n",
       "      <td>0</td>\n",
       "      <td>1</td>\n",
       "      <td>0</td>\n",
       "      <td>...</td>\n",
       "      <td>1</td>\n",
       "      <td>0</td>\n",
       "      <td>0</td>\n",
       "      <td>0</td>\n",
       "      <td>1</td>\n",
       "      <td>0</td>\n",
       "      <td>0</td>\n",
       "      <td>0</td>\n",
       "      <td>1</td>\n",
       "      <td>0</td>\n",
       "    </tr>\n",
       "    <tr>\n",
       "      <th>2</th>\n",
       "      <td>0.000749</td>\n",
       "      <td>0.000829</td>\n",
       "      <td>0.000730</td>\n",
       "      <td>0.000928</td>\n",
       "      <td>0.000730</td>\n",
       "      <td>0.000667</td>\n",
       "      <td>0.002018</td>\n",
       "      <td>0</td>\n",
       "      <td>1</td>\n",
       "      <td>0</td>\n",
       "      <td>...</td>\n",
       "      <td>1</td>\n",
       "      <td>0</td>\n",
       "      <td>0</td>\n",
       "      <td>0</td>\n",
       "      <td>1</td>\n",
       "      <td>0</td>\n",
       "      <td>0</td>\n",
       "      <td>0</td>\n",
       "      <td>1</td>\n",
       "      <td>0</td>\n",
       "    </tr>\n",
       "    <tr>\n",
       "      <th>3</th>\n",
       "      <td>0.000749</td>\n",
       "      <td>0.000829</td>\n",
       "      <td>0.000736</td>\n",
       "      <td>0.001125</td>\n",
       "      <td>0.000736</td>\n",
       "      <td>0.000691</td>\n",
       "      <td>0.001304</td>\n",
       "      <td>0</td>\n",
       "      <td>1</td>\n",
       "      <td>0</td>\n",
       "      <td>...</td>\n",
       "      <td>1</td>\n",
       "      <td>0</td>\n",
       "      <td>0</td>\n",
       "      <td>0</td>\n",
       "      <td>1</td>\n",
       "      <td>0</td>\n",
       "      <td>0</td>\n",
       "      <td>0</td>\n",
       "      <td>1</td>\n",
       "      <td>0</td>\n",
       "    </tr>\n",
       "    <tr>\n",
       "      <th>4</th>\n",
       "      <td>0.000749</td>\n",
       "      <td>0.000829</td>\n",
       "      <td>0.000737</td>\n",
       "      <td>0.001079</td>\n",
       "      <td>0.000737</td>\n",
       "      <td>0.000698</td>\n",
       "      <td>0.000763</td>\n",
       "      <td>0</td>\n",
       "      <td>1</td>\n",
       "      <td>0</td>\n",
       "      <td>...</td>\n",
       "      <td>1</td>\n",
       "      <td>0</td>\n",
       "      <td>0</td>\n",
       "      <td>0</td>\n",
       "      <td>1</td>\n",
       "      <td>0</td>\n",
       "      <td>0</td>\n",
       "      <td>0</td>\n",
       "      <td>1</td>\n",
       "      <td>0</td>\n",
       "    </tr>\n",
       "  </tbody>\n",
       "</table>\n",
       "<p>5 rows × 76 columns</p>\n",
       "</div>"
      ],
      "text/plain": [
       "   LogGrossApproval  TermInMonths  HPI_Borrower  UnemploymentRateBorrState  \\\n",
       "0          0.000771      0.000041      0.000829                   0.000475   \n",
       "1          0.000749      0.000829      0.000729                   0.000603   \n",
       "2          0.000749      0.000829      0.000730                   0.000928   \n",
       "3          0.000749      0.000829      0.000736                   0.001125   \n",
       "4          0.000749      0.000829      0.000737                   0.001079   \n",
       "\n",
       "   HPI_Borrower  LogSP500  LiborRate  Default  ApprovalFiscalYear_1990  \\\n",
       "0      0.000829  0.000682   0.002130        0                        1   \n",
       "1      0.000729  0.000682   0.002130        0                        1   \n",
       "2      0.000730  0.000667   0.002018        0                        1   \n",
       "3      0.000736  0.000691   0.001304        0                        1   \n",
       "4      0.000737  0.000698   0.000763        0                        1   \n",
       "\n",
       "   ApprovalFiscalYear_1991  ...  TPDBinary_0  TPDBinary_1  BusinessType_BLANK  \\\n",
       "0                        0  ...            1            0                   0   \n",
       "1                        0  ...            1            0                   0   \n",
       "2                        0  ...            1            0                   0   \n",
       "3                        0  ...            1            0                   0   \n",
       "4                        0  ...            1            0                   0   \n",
       "\n",
       "   BusinessType_CORPORATION  BusinessType_INDIVIDUAL  \\\n",
       "0                         0                        1   \n",
       "1                         0                        1   \n",
       "2                         0                        1   \n",
       "3                         0                        1   \n",
       "4                         0                        1   \n",
       "\n",
       "   BusinessType_PARTNERSHIP  BusinessType_BLANK  BusinessType_CORPORATION  \\\n",
       "0                         0                   0                         0   \n",
       "1                         0                   0                         0   \n",
       "2                         0                   0                         0   \n",
       "3                         0                   0                         0   \n",
       "4                         0                   0                         0   \n",
       "\n",
       "   BusinessType_INDIVIDUAL  BusinessType_PARTNERSHIP  \n",
       "0                        1                         0  \n",
       "1                        1                         0  \n",
       "2                        1                         0  \n",
       "3                        1                         0  \n",
       "4                        1                         0  \n",
       "\n",
       "[5 rows x 76 columns]"
      ]
     },
     "execution_count": 85,
     "metadata": {},
     "output_type": "execute_result"
    }
   ],
   "source": [
    "df.head()"
   ]
  },
  {
   "cell_type": "code",
   "execution_count": 86,
   "metadata": {},
   "outputs": [
    {
     "name": "stdout",
     "output_type": "stream",
     "text": [
      "<class 'pandas.core.frame.DataFrame'>\n",
      "RangeIndex: 1492371 entries, 0 to 1492370\n",
      "Data columns (total 76 columns):\n",
      "LogGrossApproval             1492371 non-null float64\n",
      "TermInMonths                 1492371 non-null float64\n",
      "HPI_Borrower                 1492371 non-null float64\n",
      "UnemploymentRateBorrState    1492371 non-null float64\n",
      "HPI_Borrower                 1492371 non-null float64\n",
      "LogSP500                     1492371 non-null float64\n",
      "LiborRate                    1492371 non-null float64\n",
      "Default                      1492371 non-null int64\n",
      "ApprovalFiscalYear_1990      1492371 non-null uint8\n",
      "ApprovalFiscalYear_1991      1492371 non-null uint8\n",
      "ApprovalFiscalYear_1992      1492371 non-null uint8\n",
      "ApprovalFiscalYear_1993      1492371 non-null uint8\n",
      "ApprovalFiscalYear_1994      1492371 non-null uint8\n",
      "ApprovalFiscalYear_1995      1492371 non-null uint8\n",
      "ApprovalFiscalYear_1996      1492371 non-null uint8\n",
      "ApprovalFiscalYear_1997      1492371 non-null uint8\n",
      "ApprovalFiscalYear_1998      1492371 non-null uint8\n",
      "ApprovalFiscalYear_1999      1492371 non-null uint8\n",
      "ApprovalFiscalYear_2000      1492371 non-null uint8\n",
      "ApprovalFiscalYear_2001      1492371 non-null uint8\n",
      "ApprovalFiscalYear_2002      1492371 non-null uint8\n",
      "ApprovalFiscalYear_2003      1492371 non-null uint8\n",
      "ApprovalFiscalYear_2004      1492371 non-null uint8\n",
      "ApprovalFiscalYear_2005      1492371 non-null uint8\n",
      "ApprovalFiscalYear_2006      1492371 non-null uint8\n",
      "ApprovalFiscalYear_2007      1492371 non-null uint8\n",
      "ApprovalFiscalYear_2008      1492371 non-null uint8\n",
      "ApprovalFiscalYear_2009      1492371 non-null uint8\n",
      "ApprovalFiscalYear_2010      1492371 non-null uint8\n",
      "ApprovalFiscalYear_2011      1492371 non-null uint8\n",
      "ApprovalFiscalYear_2012      1492371 non-null uint8\n",
      "ApprovalFiscalYear_2013      1492371 non-null uint8\n",
      "ApprovalFiscalYear_2014      1492371 non-null uint8\n",
      "BusinessType_BLANK           1492371 non-null uint8\n",
      "BusinessType_CORPORATION     1492371 non-null uint8\n",
      "BusinessType_INDIVIDUAL      1492371 non-null uint8\n",
      "BusinessType_PARTNERSHIP     1492371 non-null uint8\n",
      "BusinessType_BLANK           1492371 non-null uint8\n",
      "BusinessType_CORPORATION     1492371 non-null uint8\n",
      "BusinessType_INDIVIDUAL      1492371 non-null uint8\n",
      "BusinessType_PARTNERSHIP     1492371 non-null uint8\n",
      "LoanYear_1                   1492371 non-null uint8\n",
      "LoanYear_2                   1492371 non-null uint8\n",
      "LoanYear_3                   1492371 non-null uint8\n",
      "LoanYear_4                   1492371 non-null uint8\n",
      "LoanYear_5                   1492371 non-null uint8\n",
      "LoanYear_6                   1492371 non-null uint8\n",
      "LoanYear_7                   1492371 non-null uint8\n",
      "LoanYear_8                   1492371 non-null uint8\n",
      "LoanYear_9                   1492371 non-null uint8\n",
      "LoanYear_10                  1492371 non-null uint8\n",
      "LoanYear_11                  1492371 non-null uint8\n",
      "LoanYear_12                  1492371 non-null uint8\n",
      "LoanYear_13                  1492371 non-null uint8\n",
      "LoanYear_14                  1492371 non-null uint8\n",
      "LoanYear_15                  1492371 non-null uint8\n",
      "LoanYear_16                  1492371 non-null uint8\n",
      "LoanYear_17                  1492371 non-null uint8\n",
      "LoanYear_18                  1492371 non-null uint8\n",
      "LoanYear_19                  1492371 non-null uint8\n",
      "LoanYear_20                  1492371 non-null uint8\n",
      "LoanYear_21                  1492371 non-null uint8\n",
      "LoanYear_22                  1492371 non-null uint8\n",
      "LoanYear_23                  1492371 non-null uint8\n",
      "LoanYear_24                  1492371 non-null uint8\n",
      "LoanYear_25                  1492371 non-null uint8\n",
      "TPDBinary_0                  1492371 non-null uint8\n",
      "TPDBinary_1                  1492371 non-null uint8\n",
      "BusinessType_BLANK           1492371 non-null uint8\n",
      "BusinessType_CORPORATION     1492371 non-null uint8\n",
      "BusinessType_INDIVIDUAL      1492371 non-null uint8\n",
      "BusinessType_PARTNERSHIP     1492371 non-null uint8\n",
      "BusinessType_BLANK           1492371 non-null uint8\n",
      "BusinessType_CORPORATION     1492371 non-null uint8\n",
      "BusinessType_INDIVIDUAL      1492371 non-null uint8\n",
      "BusinessType_PARTNERSHIP     1492371 non-null uint8\n",
      "dtypes: float64(7), int64(1), uint8(68)\n",
      "memory usage: 187.9 MB\n"
     ]
    }
   ],
   "source": [
    "df.info()"
   ]
  },
  {
   "cell_type": "code",
   "execution_count": 87,
   "metadata": {},
   "outputs": [],
   "source": [
    "seed = 7\n",
    "np.random.seed(seed)"
   ]
  },
  {
   "cell_type": "code",
   "execution_count": 88,
   "metadata": {},
   "outputs": [
    {
     "data": {
      "text/plain": [
       "(1492371, 76)"
      ]
     },
     "execution_count": 88,
     "metadata": {},
     "output_type": "execute_result"
    }
   ],
   "source": [
    "df.shape"
   ]
  },
  {
   "cell_type": "code",
   "execution_count": 89,
   "metadata": {},
   "outputs": [
    {
     "data": {
      "text/plain": [
       "((1462523, 76),\n",
       " (1453717, 76),\n",
       " (8806, 76),\n",
       " (200000, 76),\n",
       " (200000, 76),\n",
       " (400000, 76),\n",
       " (400000,),\n",
       " (400000, 75),\n",
       " (29848,),\n",
       " (29848, 75))"
      ]
     },
     "execution_count": 89,
     "metadata": {},
     "output_type": "execute_result"
    }
   ],
   "source": [
    "#train-test split, resample, and separate\n",
    "default_train, default_test = train_test_split(df, test_size = 0.02)\n",
    "\n",
    "default_nottrue = default_train['Default']==0\n",
    "default_true = default_train['Default'] == 1\n",
    "\n",
    "default_only = default_train[default_nottrue]\n",
    "nodefault_only = default_train[default_true]\n",
    "\n",
    "default_trainsampled = default_only.sample(n=200000, replace = True)\n",
    "nodefault_trainsampled = nodefault_only.sample(n=200000, replace = True)\n",
    "trainsampled = default_trainsampled.append(nodefault_trainsampled, ignore_index=True)\n",
    "\n",
    "y_trainsampled = trainsampled['Default']\n",
    "X_trainsampled = trainsampled.drop('Default', axis=1)\n",
    "y_test = default_test['Default']\n",
    "X_test = default_test.drop('Default', axis=1)\n",
    "\n",
    "default_train.shape, default_only.shape, nodefault_only.shape, default_trainsampled.shape, nodefault_trainsampled.shape, trainsampled.shape, y_trainsampled.shape, X_trainsampled.shape, y_test.shape, X_test.shape"
   ]
  },
  {
   "cell_type": "code",
   "execution_count": 90,
   "metadata": {},
   "outputs": [
    {
     "name": "stdout",
     "output_type": "stream",
     "text": [
      "Epoch 1/5\n",
      "400000/400000 [==============================] - 9s 22us/step - loss: 0.5567 - acc: 0.7220\n",
      "Epoch 2/5\n",
      "400000/400000 [==============================] - 6s 15us/step - loss: 0.5466 - acc: 0.7277\n",
      "Epoch 3/5\n",
      "400000/400000 [==============================] - 5s 13us/step - loss: 0.5456 - acc: 0.7276\n",
      "Epoch 4/5\n",
      "400000/400000 [==============================] - 6s 14us/step - loss: 0.5496 - acc: 0.7244\n",
      "Epoch 5/5\n",
      "400000/400000 [==============================] - 6s 15us/step - loss: 0.5471 - acc: 0.7268\n"
     ]
    },
    {
     "data": {
      "text/plain": [
       "<keras.callbacks.History at 0x1ce91ee2588>"
      ]
     },
     "execution_count": 90,
     "metadata": {},
     "output_type": "execute_result"
    }
   ],
   "source": [
    "#Change made to input_dim (got rid of the miss-match error (not always constant at 84 which it was set to))\n",
    "\n",
    "\n",
    "### baseline default model\n",
    "baseline_default_model = Sequential()\n",
    "baseline_default_model.add(Dense(1, input_dim=X_test.shape[1], kernel_initializer='normal', bias_initializer = 'zeros', kernel_regularizer = regularizers.l2(0.01)))\n",
    "\n",
    "# Compile model\n",
    "baseline_default_model.compile(optimizer='adam', loss='binary_crossentropy', metrics=['accuracy'])\n",
    "\n",
    "#train model\n",
    "baseline_default_model.fit(X_trainsampled, y_trainsampled, epochs=5, batch_size=128, verbose = 1)"
   ]
  },
  {
   "cell_type": "code",
   "execution_count": 27,
   "metadata": {},
   "outputs": [
    {
     "name": "stdout",
     "output_type": "stream",
     "text": [
      "Epoch 1/10\n",
      "400000/400000 [==============================] - 8s 21us/step - loss: 0.6258 - acc: 0.7179\n",
      "Epoch 2/10\n",
      "400000/400000 [==============================] - 8s 19us/step - loss: 0.5769 - acc: 0.7273\n",
      "Epoch 3/10\n",
      "400000/400000 [==============================] - 8s 20us/step - loss: 0.5738 - acc: 0.7294\n",
      "Epoch 4/10\n",
      "400000/400000 [==============================] - 8s 19us/step - loss: 0.5752 - acc: 0.7294\n",
      "Epoch 5/10\n",
      "400000/400000 [==============================] - 8s 20us/step - loss: 0.5734 - acc: 0.7296\n",
      "Epoch 6/10\n",
      "400000/400000 [==============================] - 8s 19us/step - loss: 0.5737 - acc: 0.7297\n",
      "Epoch 7/10\n",
      "400000/400000 [==============================] - 8s 20us/step - loss: 0.5723 - acc: 0.7301\n",
      "Epoch 8/10\n",
      "400000/400000 [==============================] - 8s 21us/step - loss: 0.5723 - acc: 0.7307\n",
      "Epoch 9/10\n",
      "400000/400000 [==============================] - 8s 21us/step - loss: 0.5723 - acc: 0.7305\n",
      "Epoch 10/10\n",
      "400000/400000 [==============================] - 10s 25us/step - loss: 0.5718 - acc: 0.7309\n"
     ]
    },
    {
     "data": {
      "text/plain": [
       "<keras.callbacks.History at 0x1cedeff8cc0>"
      ]
     },
     "execution_count": 27,
     "metadata": {},
     "output_type": "execute_result"
    }
   ],
   "source": [
    "#multilayer default model\n",
    "multilayer_default_model = Sequential()\n",
    "multilayer_default_model.add(Dense(60, input_dim=X_test.shape[1], activation = 'relu', kernel_initializer='normal', bias_initializer = 'zeros', kernel_regularizer = regularizers.l2(0.01)))\n",
    "multilayer_default_model.add(Dense(40, input_dim=60, activation = 'relu', kernel_initializer='normal', bias_initializer = 'zeros', kernel_regularizer = regularizers.l2(0.01)))\n",
    "multilayer_default_model.add(Dense(15, input_dim=40, activation = 'relu', kernel_initializer='normal', bias_initializer = 'zeros', kernel_regularizer = regularizers.l2(0.01)))\n",
    "multilayer_default_model.add(Dense(1, input_dim=15, kernel_initializer='normal', bias_initializer = 'zeros', kernel_regularizer = regularizers.l2(0.01)))\n",
    "\n",
    "#Compile model\n",
    "multilayer_default_model.compile(optimizer='adam', loss='binary_crossentropy', metrics=['accuracy'])\n",
    "\n",
    "#train model\n",
    "multilayer_default_model.fit(X_trainsampled, y_trainsampled, epochs=10, batch_size=128, verbose = 1)"
   ]
  },
  {
   "cell_type": "code",
   "execution_count": 28,
   "metadata": {
    "scrolled": true
   },
   "outputs": [],
   "source": [
    "#print(\"Baseline: %.2f%% (%.2f%%)\" % (multilayer_results.mean()*100, results.std()*100))"
   ]
  },
  {
   "cell_type": "code",
   "execution_count": 29,
   "metadata": {},
   "outputs": [
    {
     "data": {
      "text/plain": [
       "0.7931853730073697"
      ]
     },
     "execution_count": 29,
     "metadata": {},
     "output_type": "execute_result"
    }
   ],
   "source": [
    "# Learn to predict each class against the other\n",
    "y_predict = multilayer_default_model.predict(X_test)\n",
    "\n",
    "# Compute ROC curve and ROC area for each class\n",
    "fpr = dict()\n",
    "tpr = dict()\n",
    "roc_auc = dict()\n",
    "fpr, tpr, _ = roc_curve(y_test, y_predict)\n",
    "roc_auc = auc(fpr, tpr)\n",
    "\n",
    "roc_auc"
   ]
  },
  {
   "cell_type": "code",
   "execution_count": 30,
   "metadata": {},
   "outputs": [
    {
     "data": {
      "image/png": "[encoded data removed]",
      "text/plain": [
       "<Figure size 432x288 with 1 Axes>"
      ]
     },
     "metadata": {
      "needs_background": "light"
     },
     "output_type": "display_data"
    }
   ],
   "source": [
    "#Plot of a ROC curve for a specific class\n",
    "plt.figure()\n",
    "plt.plot(fpr, tpr, color='darkorange', label='ROC curve')\n",
    "plt.plot([0, 1], [0, 1], color='navy', linestyle='--')\n",
    "plt.xlim([0.0, 1.0])\n",
    "plt.ylim([0.0, 1.05])\n",
    "plt.xlabel('False Positive Rate')\n",
    "plt.ylabel('True Positive Rate')\n",
    "plt.title('ROC Training set Default Probability')\n",
    "plt.legend(loc=\"lower right\")\n",
    "plt.show()"
   ]
  },
  {
   "cell_type": "code",
   "execution_count": 31,
   "metadata": {},
   "outputs": [],
   "source": [
    "loss_data = pd.read_excel(\"Final_12.xlsx\")"
   ]
  },
  {
   "cell_type": "code",
   "execution_count": null,
   "metadata": {
    "scrolled": true
   },
   "outputs": [],
   "source": [
    "visualise_null(loss_data)"
   ]
  },
  {
   "cell_type": "code",
   "execution_count": 32,
   "metadata": {},
   "outputs": [],
   "source": [
    "loss_data = loss_data.dropna(axis='rows')"
   ]
  },
  {
   "cell_type": "code",
   "execution_count": 33,
   "metadata": {},
   "outputs": [
    {
     "data": {
      "text/plain": [
       "(7591, 36)"
      ]
     },
     "execution_count": 33,
     "metadata": {},
     "output_type": "execute_result"
    }
   ],
   "source": [
    "loss_data.shape"
   ]
  },
  {
   "cell_type": "code",
   "execution_count": 34,
   "metadata": {},
   "outputs": [],
   "source": [
    "#Re-runn the code from here when there are changes made to the categories!!! \n",
    "df_temp2 = loss_data.copy()"
   ]
  },
  {
   "cell_type": "code",
   "execution_count": 35,
   "metadata": {},
   "outputs": [],
   "source": [
    "COLUMN_NUMERIC = ['LogGrossApproval', 'TermInMonths','HPI_Borrower', 'UnemploymentRateBorrState', 'HPI_Borrower', 'LogSP500', 'LiborRate']\n",
    "\n",
    "COLUMN_CATEGORICAL = ['ApprovalFiscalYear', 'BusinessType', 'LoanYear', 'TPDBinary', 'BusinessType']\n",
    "\n",
    "LOSS_LABEL = ['GrossChargeOffAmount']\n",
    "\n",
    "COLUMNS_USED_NEW = COLUMN_NUMERIC + COLUMN_CATEGORICAL + LOSS_LABEL"
   ]
  },
  {
   "cell_type": "code",
   "execution_count": 36,
   "metadata": {},
   "outputs": [
    {
     "name": "stderr",
     "output_type": "stream",
     "text": [
      "C:\\Users\\wille\\AppData\\Roaming\\Python\\Python36\\site-packages\\pandas\\core\\indexing.py:1494: FutureWarning: \n",
      "Passing list-likes to .loc or [] with any missing label will raise\n",
      "KeyError in the future, you can use .reindex() as an alternative.\n",
      "\n",
      "See the documentation here:\n",
      "https://pandas.pydata.org/pandas-docs/stable/indexing.html#deprecate-loc-reindex-listlike\n",
      "  return self._getitem_tuple(key)\n"
     ]
    },
    {
     "data": {
      "text/plain": [
       "(7591, 13)"
      ]
     },
     "execution_count": 36,
     "metadata": {},
     "output_type": "execute_result"
    }
   ],
   "source": [
    "df_temp2 = df_temp2.loc[:, COLUMNS_USED_NEW]\n",
    "df_temp2 = df_temp2.reset_index(drop=True)\n",
    "df_temp2.shape"
   ]
  },
  {
   "cell_type": "code",
   "execution_count": 37,
   "metadata": {},
   "outputs": [],
   "source": [
    "loss_df = df_temp2.copy()"
   ]
  },
  {
   "cell_type": "code",
   "execution_count": 38,
   "metadata": {},
   "outputs": [],
   "source": [
    "#One hot encoding\n",
    "to_encode=['ApprovalFiscalYear', 'BusinessType', 'LoanYear', 'TPDBinary', 'BusinessType']\n",
    "\n",
    "loss_df = pd.get_dummies(loss_df, columns=to_encode)"
   ]
  },
  {
   "cell_type": "code",
   "execution_count": 39,
   "metadata": {},
   "outputs": [
    {
     "data": {
      "text/plain": [
       "(7591, 49)"
      ]
     },
     "execution_count": 39,
     "metadata": {},
     "output_type": "execute_result"
    }
   ],
   "source": [
    "loss_df.shape"
   ]
  },
  {
   "cell_type": "code",
   "execution_count": 40,
   "metadata": {},
   "outputs": [],
   "source": [
    "loss_df = loss_df.apply(pd.to_numeric)"
   ]
  },
  {
   "cell_type": "code",
   "execution_count": 41,
   "metadata": {},
   "outputs": [],
   "source": [
    "#Normalize\n",
    "to_normalize = ['LogGrossApproval', 'TermInMonths','HPI_Borrower', 'UnemploymentRateBorrState', 'HPI_Borrower', 'LogSP500', 'LiborRate']"
   ]
  },
  {
   "cell_type": "code",
   "execution_count": 42,
   "metadata": {},
   "outputs": [],
   "source": [
    "loss_df[to_normalize] = normalize(loss_df[to_normalize], axis=0)"
   ]
  },
  {
   "cell_type": "code",
   "execution_count": 43,
   "metadata": {},
   "outputs": [
    {
     "data": {
      "text/html": [
       "<div>\n",
       "<style scoped>\n",
       "    .dataframe tbody tr th:only-of-type {\n",
       "        vertical-align: middle;\n",
       "    }\n",
       "\n",
       "    .dataframe tbody tr th {\n",
       "        vertical-align: top;\n",
       "    }\n",
       "\n",
       "    .dataframe thead th {\n",
       "        text-align: right;\n",
       "    }\n",
       "</style>\n",
       "<table border=\"1\" class=\"dataframe\">\n",
       "  <thead>\n",
       "    <tr style=\"text-align: right;\">\n",
       "      <th></th>\n",
       "      <th>LogGrossApproval</th>\n",
       "      <th>TermInMonths</th>\n",
       "      <th>HPI_Borrower</th>\n",
       "      <th>UnemploymentRateBorrState</th>\n",
       "      <th>HPI_Borrower</th>\n",
       "      <th>LogSP500</th>\n",
       "      <th>LiborRate</th>\n",
       "      <th>GrossChargeOffAmount</th>\n",
       "      <th>ApprovalFiscalYear_1990.0</th>\n",
       "      <th>ApprovalFiscalYear_1991.0</th>\n",
       "      <th>...</th>\n",
       "      <th>TPDBinary_0.0</th>\n",
       "      <th>TPDBinary_1.0</th>\n",
       "      <th>BusinessType_BLANK</th>\n",
       "      <th>BusinessType_CORPORATION</th>\n",
       "      <th>BusinessType_INDIVIDUAL</th>\n",
       "      <th>BusinessType_PARTNERSHIP</th>\n",
       "      <th>BusinessType_BLANK</th>\n",
       "      <th>BusinessType_CORPORATION</th>\n",
       "      <th>BusinessType_INDIVIDUAL</th>\n",
       "      <th>BusinessType_PARTNERSHIP</th>\n",
       "    </tr>\n",
       "  </thead>\n",
       "  <tbody>\n",
       "    <tr>\n",
       "      <th>0</th>\n",
       "      <td>0.010755</td>\n",
       "      <td>0.011658</td>\n",
       "      <td>0.011822</td>\n",
       "      <td>0.008159</td>\n",
       "      <td>0.011822</td>\n",
       "      <td>0.009485</td>\n",
       "      <td>0.022519</td>\n",
       "      <td>93434.0</td>\n",
       "      <td>1</td>\n",
       "      <td>0</td>\n",
       "      <td>...</td>\n",
       "      <td>1</td>\n",
       "      <td>0</td>\n",
       "      <td>0</td>\n",
       "      <td>1</td>\n",
       "      <td>0</td>\n",
       "      <td>0</td>\n",
       "      <td>0</td>\n",
       "      <td>1</td>\n",
       "      <td>0</td>\n",
       "      <td>0</td>\n",
       "    </tr>\n",
       "    <tr>\n",
       "      <th>1</th>\n",
       "      <td>0.010760</td>\n",
       "      <td>0.011658</td>\n",
       "      <td>0.006215</td>\n",
       "      <td>0.010736</td>\n",
       "      <td>0.006215</td>\n",
       "      <td>0.009313</td>\n",
       "      <td>0.022356</td>\n",
       "      <td>80635.0</td>\n",
       "      <td>1</td>\n",
       "      <td>0</td>\n",
       "      <td>...</td>\n",
       "      <td>1</td>\n",
       "      <td>0</td>\n",
       "      <td>0</td>\n",
       "      <td>1</td>\n",
       "      <td>0</td>\n",
       "      <td>0</td>\n",
       "      <td>0</td>\n",
       "      <td>1</td>\n",
       "      <td>0</td>\n",
       "      <td>0</td>\n",
       "    </tr>\n",
       "    <tr>\n",
       "      <th>2</th>\n",
       "      <td>0.010233</td>\n",
       "      <td>0.011658</td>\n",
       "      <td>0.013319</td>\n",
       "      <td>0.018896</td>\n",
       "      <td>0.013319</td>\n",
       "      <td>0.009501</td>\n",
       "      <td>0.017743</td>\n",
       "      <td>85254.0</td>\n",
       "      <td>0</td>\n",
       "      <td>1</td>\n",
       "      <td>...</td>\n",
       "      <td>1</td>\n",
       "      <td>0</td>\n",
       "      <td>0</td>\n",
       "      <td>1</td>\n",
       "      <td>0</td>\n",
       "      <td>0</td>\n",
       "      <td>0</td>\n",
       "      <td>1</td>\n",
       "      <td>0</td>\n",
       "      <td>0</td>\n",
       "    </tr>\n",
       "    <tr>\n",
       "      <th>3</th>\n",
       "      <td>0.011573</td>\n",
       "      <td>0.011658</td>\n",
       "      <td>0.017859</td>\n",
       "      <td>0.014386</td>\n",
       "      <td>0.017859</td>\n",
       "      <td>0.009554</td>\n",
       "      <td>0.017743</td>\n",
       "      <td>241020.0</td>\n",
       "      <td>0</td>\n",
       "      <td>1</td>\n",
       "      <td>...</td>\n",
       "      <td>1</td>\n",
       "      <td>0</td>\n",
       "      <td>0</td>\n",
       "      <td>1</td>\n",
       "      <td>0</td>\n",
       "      <td>0</td>\n",
       "      <td>0</td>\n",
       "      <td>1</td>\n",
       "      <td>0</td>\n",
       "      <td>0</td>\n",
       "    </tr>\n",
       "    <tr>\n",
       "      <th>4</th>\n",
       "      <td>0.010795</td>\n",
       "      <td>0.011658</td>\n",
       "      <td>0.012581</td>\n",
       "      <td>0.009448</td>\n",
       "      <td>0.012581</td>\n",
       "      <td>0.009600</td>\n",
       "      <td>0.016214</td>\n",
       "      <td>88070.0</td>\n",
       "      <td>0</td>\n",
       "      <td>1</td>\n",
       "      <td>...</td>\n",
       "      <td>1</td>\n",
       "      <td>0</td>\n",
       "      <td>0</td>\n",
       "      <td>0</td>\n",
       "      <td>1</td>\n",
       "      <td>0</td>\n",
       "      <td>0</td>\n",
       "      <td>0</td>\n",
       "      <td>1</td>\n",
       "      <td>0</td>\n",
       "    </tr>\n",
       "  </tbody>\n",
       "</table>\n",
       "<p>5 rows × 49 columns</p>\n",
       "</div>"
      ],
      "text/plain": [
       "   LogGrossApproval  TermInMonths  HPI_Borrower  UnemploymentRateBorrState  \\\n",
       "0          0.010755      0.011658      0.011822                   0.008159   \n",
       "1          0.010760      0.011658      0.006215                   0.010736   \n",
       "2          0.010233      0.011658      0.013319                   0.018896   \n",
       "3          0.011573      0.011658      0.017859                   0.014386   \n",
       "4          0.010795      0.011658      0.012581                   0.009448   \n",
       "\n",
       "   HPI_Borrower  LogSP500  LiborRate  GrossChargeOffAmount  \\\n",
       "0      0.011822  0.009485   0.022519               93434.0   \n",
       "1      0.006215  0.009313   0.022356               80635.0   \n",
       "2      0.013319  0.009501   0.017743               85254.0   \n",
       "3      0.017859  0.009554   0.017743              241020.0   \n",
       "4      0.012581  0.009600   0.016214               88070.0   \n",
       "\n",
       "   ApprovalFiscalYear_1990.0  ApprovalFiscalYear_1991.0  ...  TPDBinary_0.0  \\\n",
       "0                          1                          0  ...              1   \n",
       "1                          1                          0  ...              1   \n",
       "2                          0                          1  ...              1   \n",
       "3                          0                          1  ...              1   \n",
       "4                          0                          1  ...              1   \n",
       "\n",
       "   TPDBinary_1.0  BusinessType_BLANK  BusinessType_CORPORATION  \\\n",
       "0              0                   0                         1   \n",
       "1              0                   0                         1   \n",
       "2              0                   0                         1   \n",
       "3              0                   0                         1   \n",
       "4              0                   0                         0   \n",
       "\n",
       "   BusinessType_INDIVIDUAL  BusinessType_PARTNERSHIP  BusinessType_BLANK  \\\n",
       "0                        0                         0                   0   \n",
       "1                        0                         0                   0   \n",
       "2                        0                         0                   0   \n",
       "3                        0                         0                   0   \n",
       "4                        1                         0                   0   \n",
       "\n",
       "   BusinessType_CORPORATION  BusinessType_INDIVIDUAL  BusinessType_PARTNERSHIP  \n",
       "0                         1                        0                         0  \n",
       "1                         1                        0                         0  \n",
       "2                         1                        0                         0  \n",
       "3                         1                        0                         0  \n",
       "4                         0                        1                         0  \n",
       "\n",
       "[5 rows x 49 columns]"
      ]
     },
     "execution_count": 43,
     "metadata": {},
     "output_type": "execute_result"
    }
   ],
   "source": [
    "loss_df.head()"
   ]
  },
  {
   "cell_type": "code",
   "execution_count": 44,
   "metadata": {},
   "outputs": [
    {
     "name": "stdout",
     "output_type": "stream",
     "text": [
      "<class 'pandas.core.frame.DataFrame'>\n",
      "RangeIndex: 7591 entries, 0 to 7590\n",
      "Data columns (total 49 columns):\n",
      "LogGrossApproval             7591 non-null float64\n",
      "TermInMonths                 7591 non-null float64\n",
      "HPI_Borrower                 7591 non-null float64\n",
      "UnemploymentRateBorrState    7591 non-null float64\n",
      "HPI_Borrower                 7591 non-null float64\n",
      "LogSP500                     7591 non-null float64\n",
      "LiborRate                    7591 non-null float64\n",
      "GrossChargeOffAmount         7591 non-null float64\n",
      "ApprovalFiscalYear_1990.0    7591 non-null uint8\n",
      "ApprovalFiscalYear_1991.0    7591 non-null uint8\n",
      "ApprovalFiscalYear_1992.0    7591 non-null uint8\n",
      "ApprovalFiscalYear_1993.0    7591 non-null uint8\n",
      "ApprovalFiscalYear_1994.0    7591 non-null uint8\n",
      "ApprovalFiscalYear_1995.0    7591 non-null uint8\n",
      "ApprovalFiscalYear_1996.0    7591 non-null uint8\n",
      "ApprovalFiscalYear_1997.0    7591 non-null uint8\n",
      "ApprovalFiscalYear_1998.0    7591 non-null uint8\n",
      "ApprovalFiscalYear_1999.0    7591 non-null uint8\n",
      "ApprovalFiscalYear_2000.0    7591 non-null uint8\n",
      "ApprovalFiscalYear_2001.0    7591 non-null uint8\n",
      "ApprovalFiscalYear_2002.0    7591 non-null uint8\n",
      "ApprovalFiscalYear_2003.0    7591 non-null uint8\n",
      "ApprovalFiscalYear_2004.0    7591 non-null uint8\n",
      "ApprovalFiscalYear_2005.0    7591 non-null uint8\n",
      "ApprovalFiscalYear_2006.0    7591 non-null uint8\n",
      "ApprovalFiscalYear_2007.0    7591 non-null uint8\n",
      "ApprovalFiscalYear_2008.0    7591 non-null uint8\n",
      "ApprovalFiscalYear_2009.0    7591 non-null uint8\n",
      "ApprovalFiscalYear_2010.0    7591 non-null uint8\n",
      "ApprovalFiscalYear_2011.0    7591 non-null uint8\n",
      "ApprovalFiscalYear_2012.0    7591 non-null uint8\n",
      "BusinessType_BLANK           7591 non-null uint8\n",
      "BusinessType_CORPORATION     7591 non-null uint8\n",
      "BusinessType_INDIVIDUAL      7591 non-null uint8\n",
      "BusinessType_PARTNERSHIP     7591 non-null uint8\n",
      "BusinessType_BLANK           7591 non-null uint8\n",
      "BusinessType_CORPORATION     7591 non-null uint8\n",
      "BusinessType_INDIVIDUAL      7591 non-null uint8\n",
      "BusinessType_PARTNERSHIP     7591 non-null uint8\n",
      "TPDBinary_0.0                7591 non-null uint8\n",
      "TPDBinary_1.0                7591 non-null uint8\n",
      "BusinessType_BLANK           7591 non-null uint8\n",
      "BusinessType_CORPORATION     7591 non-null uint8\n",
      "BusinessType_INDIVIDUAL      7591 non-null uint8\n",
      "BusinessType_PARTNERSHIP     7591 non-null uint8\n",
      "BusinessType_BLANK           7591 non-null uint8\n",
      "BusinessType_CORPORATION     7591 non-null uint8\n",
      "BusinessType_INDIVIDUAL      7591 non-null uint8\n",
      "BusinessType_PARTNERSHIP     7591 non-null uint8\n",
      "dtypes: float64(8), uint8(41)\n",
      "memory usage: 778.5 KB\n"
     ]
    }
   ],
   "source": [
    "loss_df.info()"
   ]
  },
  {
   "cell_type": "code",
   "execution_count": 45,
   "metadata": {},
   "outputs": [],
   "source": [
    "loss_df_Y = loss_df['GrossChargeOffAmount']\n",
    "loss_df_X =  loss_df.drop('GrossChargeOffAmount', axis=1)\n",
    "X_train_loss, X_test_loss, y_train_loss, y_test_loss = train_test_split(loss_df_X, loss_df_Y, test_size=0.1)"
   ]
  },
  {
   "cell_type": "code",
   "execution_count": 46,
   "metadata": {},
   "outputs": [
    {
     "data": {
      "text/plain": [
       "((6831, 48), (760, 48), (6831,), (760,))"
      ]
     },
     "execution_count": 46,
     "metadata": {},
     "output_type": "execute_result"
    }
   ],
   "source": [
    "X_train_loss.shape, X_test_loss.shape, y_train_loss.shape, y_test_loss.shape"
   ]
  },
  {
   "cell_type": "code",
   "execution_count": 47,
   "metadata": {},
   "outputs": [
    {
     "data": {
      "text/html": [
       "<div>\n",
       "<style scoped>\n",
       "    .dataframe tbody tr th:only-of-type {\n",
       "        vertical-align: middle;\n",
       "    }\n",
       "\n",
       "    .dataframe tbody tr th {\n",
       "        vertical-align: top;\n",
       "    }\n",
       "\n",
       "    .dataframe thead th {\n",
       "        text-align: right;\n",
       "    }\n",
       "</style>\n",
       "<table border=\"1\" class=\"dataframe\">\n",
       "  <thead>\n",
       "    <tr style=\"text-align: right;\">\n",
       "      <th></th>\n",
       "      <th>LogGrossApproval</th>\n",
       "      <th>TermInMonths</th>\n",
       "      <th>HPI_Borrower</th>\n",
       "      <th>UnemploymentRateBorrState</th>\n",
       "      <th>HPI_Borrower</th>\n",
       "      <th>LogSP500</th>\n",
       "      <th>LiborRate</th>\n",
       "      <th>ApprovalFiscalYear_1990.0</th>\n",
       "      <th>ApprovalFiscalYear_1991.0</th>\n",
       "      <th>ApprovalFiscalYear_1992.0</th>\n",
       "      <th>...</th>\n",
       "      <th>TPDBinary_0.0</th>\n",
       "      <th>TPDBinary_1.0</th>\n",
       "      <th>BusinessType_BLANK</th>\n",
       "      <th>BusinessType_CORPORATION</th>\n",
       "      <th>BusinessType_INDIVIDUAL</th>\n",
       "      <th>BusinessType_PARTNERSHIP</th>\n",
       "      <th>BusinessType_BLANK</th>\n",
       "      <th>BusinessType_CORPORATION</th>\n",
       "      <th>BusinessType_INDIVIDUAL</th>\n",
       "      <th>BusinessType_PARTNERSHIP</th>\n",
       "    </tr>\n",
       "  </thead>\n",
       "  <tbody>\n",
       "    <tr>\n",
       "      <th>493</th>\n",
       "      <td>0.011573</td>\n",
       "      <td>0.011658</td>\n",
       "      <td>0.011787</td>\n",
       "      <td>0.006871</td>\n",
       "      <td>0.011787</td>\n",
       "      <td>0.011577</td>\n",
       "      <td>0.013621</td>\n",
       "      <td>0</td>\n",
       "      <td>0</td>\n",
       "      <td>0</td>\n",
       "      <td>...</td>\n",
       "      <td>1</td>\n",
       "      <td>0</td>\n",
       "      <td>0</td>\n",
       "      <td>1</td>\n",
       "      <td>0</td>\n",
       "      <td>0</td>\n",
       "      <td>0</td>\n",
       "      <td>1</td>\n",
       "      <td>0</td>\n",
       "      <td>0</td>\n",
       "    </tr>\n",
       "    <tr>\n",
       "      <th>153</th>\n",
       "      <td>0.009817</td>\n",
       "      <td>0.011658</td>\n",
       "      <td>0.007184</td>\n",
       "      <td>0.006871</td>\n",
       "      <td>0.007184</td>\n",
       "      <td>0.010506</td>\n",
       "      <td>0.014904</td>\n",
       "      <td>0</td>\n",
       "      <td>0</td>\n",
       "      <td>0</td>\n",
       "      <td>...</td>\n",
       "      <td>1</td>\n",
       "      <td>0</td>\n",
       "      <td>0</td>\n",
       "      <td>0</td>\n",
       "      <td>1</td>\n",
       "      <td>0</td>\n",
       "      <td>0</td>\n",
       "      <td>0</td>\n",
       "      <td>1</td>\n",
       "      <td>0</td>\n",
       "    </tr>\n",
       "    <tr>\n",
       "      <th>6834</th>\n",
       "      <td>0.011484</td>\n",
       "      <td>0.011658</td>\n",
       "      <td>0.007615</td>\n",
       "      <td>0.007515</td>\n",
       "      <td>0.007615</td>\n",
       "      <td>0.011715</td>\n",
       "      <td>0.011929</td>\n",
       "      <td>0</td>\n",
       "      <td>0</td>\n",
       "      <td>0</td>\n",
       "      <td>...</td>\n",
       "      <td>0</td>\n",
       "      <td>1</td>\n",
       "      <td>0</td>\n",
       "      <td>1</td>\n",
       "      <td>0</td>\n",
       "      <td>0</td>\n",
       "      <td>0</td>\n",
       "      <td>1</td>\n",
       "      <td>0</td>\n",
       "      <td>0</td>\n",
       "    </tr>\n",
       "    <tr>\n",
       "      <th>3250</th>\n",
       "      <td>0.011178</td>\n",
       "      <td>0.011658</td>\n",
       "      <td>0.011832</td>\n",
       "      <td>0.010951</td>\n",
       "      <td>0.011832</td>\n",
       "      <td>0.011474</td>\n",
       "      <td>0.009008</td>\n",
       "      <td>0</td>\n",
       "      <td>0</td>\n",
       "      <td>0</td>\n",
       "      <td>...</td>\n",
       "      <td>0</td>\n",
       "      <td>1</td>\n",
       "      <td>0</td>\n",
       "      <td>1</td>\n",
       "      <td>0</td>\n",
       "      <td>0</td>\n",
       "      <td>0</td>\n",
       "      <td>1</td>\n",
       "      <td>0</td>\n",
       "      <td>0</td>\n",
       "    </tr>\n",
       "    <tr>\n",
       "      <th>3412</th>\n",
       "      <td>0.012512</td>\n",
       "      <td>0.011658</td>\n",
       "      <td>0.015163</td>\n",
       "      <td>0.013313</td>\n",
       "      <td>0.015163</td>\n",
       "      <td>0.011500</td>\n",
       "      <td>0.009772</td>\n",
       "      <td>0</td>\n",
       "      <td>0</td>\n",
       "      <td>0</td>\n",
       "      <td>...</td>\n",
       "      <td>0</td>\n",
       "      <td>1</td>\n",
       "      <td>0</td>\n",
       "      <td>1</td>\n",
       "      <td>0</td>\n",
       "      <td>0</td>\n",
       "      <td>0</td>\n",
       "      <td>1</td>\n",
       "      <td>0</td>\n",
       "      <td>0</td>\n",
       "    </tr>\n",
       "  </tbody>\n",
       "</table>\n",
       "<p>5 rows × 48 columns</p>\n",
       "</div>"
      ],
      "text/plain": [
       "      LogGrossApproval  TermInMonths  HPI_Borrower  UnemploymentRateBorrState  \\\n",
       "493           0.011573      0.011658      0.011787                   0.006871   \n",
       "153           0.009817      0.011658      0.007184                   0.006871   \n",
       "6834          0.011484      0.011658      0.007615                   0.007515   \n",
       "3250          0.011178      0.011658      0.011832                   0.010951   \n",
       "3412          0.012512      0.011658      0.015163                   0.013313   \n",
       "\n",
       "      HPI_Borrower  LogSP500  LiborRate  ApprovalFiscalYear_1990.0  \\\n",
       "493       0.011787  0.011577   0.013621                          0   \n",
       "153       0.007184  0.010506   0.014904                          0   \n",
       "6834      0.007615  0.011715   0.011929                          0   \n",
       "3250      0.011832  0.011474   0.009008                          0   \n",
       "3412      0.015163  0.011500   0.009772                          0   \n",
       "\n",
       "      ApprovalFiscalYear_1991.0  ApprovalFiscalYear_1992.0  ...  \\\n",
       "493                           0                          0  ...   \n",
       "153                           0                          0  ...   \n",
       "6834                          0                          0  ...   \n",
       "3250                          0                          0  ...   \n",
       "3412                          0                          0  ...   \n",
       "\n",
       "      TPDBinary_0.0  TPDBinary_1.0  BusinessType_BLANK  \\\n",
       "493               1              0                   0   \n",
       "153               1              0                   0   \n",
       "6834              0              1                   0   \n",
       "3250              0              1                   0   \n",
       "3412              0              1                   0   \n",
       "\n",
       "      BusinessType_CORPORATION  BusinessType_INDIVIDUAL  \\\n",
       "493                          1                        0   \n",
       "153                          0                        1   \n",
       "6834                         1                        0   \n",
       "3250                         1                        0   \n",
       "3412                         1                        0   \n",
       "\n",
       "      BusinessType_PARTNERSHIP  BusinessType_BLANK  BusinessType_CORPORATION  \\\n",
       "493                          0                   0                         1   \n",
       "153                          0                   0                         0   \n",
       "6834                         0                   0                         1   \n",
       "3250                         0                   0                         1   \n",
       "3412                         0                   0                         1   \n",
       "\n",
       "      BusinessType_INDIVIDUAL  BusinessType_PARTNERSHIP  \n",
       "493                         0                         0  \n",
       "153                         1                         0  \n",
       "6834                        0                         0  \n",
       "3250                        0                         0  \n",
       "3412                        0                         0  \n",
       "\n",
       "[5 rows x 48 columns]"
      ]
     },
     "execution_count": 47,
     "metadata": {},
     "output_type": "execute_result"
    }
   ],
   "source": [
    "X_train_loss.head()"
   ]
  },
  {
   "cell_type": "code",
   "execution_count": 50,
   "metadata": {},
   "outputs": [
    {
     "name": "stdout",
     "output_type": "stream",
     "text": [
      "Epoch 1/100\n",
      "6831/6831 [==============================] - 1s 172us/step - loss: 338409.2125 - mean_absolute_error: 338184.5498\n",
      "Epoch 2/100\n",
      "6831/6831 [==============================] - 0s 44us/step - loss: 296202.2186 - mean_absolute_error: 295885.8436\n",
      "Epoch 3/100\n",
      "6831/6831 [==============================] - 0s 50us/step - loss: 295599.3604 - mean_absolute_error: 295241.6208\n",
      "Epoch 4/100\n",
      "6831/6831 [==============================] - 0s 44us/step - loss: 295576.4268 - mean_absolute_error: 295197.9343\n",
      "Epoch 5/100\n",
      "6831/6831 [==============================] - 0s 41us/step - loss: 295552.6854 - mean_absolute_error: 295152.4300\n",
      "Epoch 6/100\n",
      "6831/6831 [==============================] - 0s 54us/step - loss: 295963.5604 - mean_absolute_error: 295550.6055\n",
      "Epoch 7/100\n",
      "6831/6831 [==============================] - 0s 44us/step - loss: 295127.4375 - mean_absolute_error: 294708.1168\n",
      "Epoch 8/100\n",
      "6831/6831 [==============================] - 0s 40us/step - loss: 295264.3697 - mean_absolute_error: 294851.0084\n",
      "Epoch 9/100\n",
      "6831/6831 [==============================] - 0s 49us/step - loss: 295523.2267 - mean_absolute_error: 295086.7041\n",
      "Epoch 10/100\n",
      "6831/6831 [==============================] - 0s 51us/step - loss: 295530.1311 - mean_absolute_error: 295076.0266\n",
      "Epoch 11/100\n",
      "6831/6831 [==============================] - 0s 44us/step - loss: 295489.0552 - mean_absolute_error: 295067.4453\n",
      "Epoch 12/100\n",
      "6831/6831 [==============================] - 0s 67us/step - loss: 295197.0752 - mean_absolute_error: 294757.3657\n",
      "Epoch 13/100\n",
      "6831/6831 [==============================] - 0s 48us/step - loss: 295257.8537 - mean_absolute_error: 294824.4768\n",
      "Epoch 14/100\n",
      "6831/6831 [==============================] - 0s 43us/step - loss: 295162.4012 - mean_absolute_error: 294721.8022\n",
      "Epoch 15/100\n",
      "6831/6831 [==============================] - 0s 52us/step - loss: 295397.3386 - mean_absolute_error: 294944.6000\n",
      "Epoch 16/100\n",
      "6831/6831 [==============================] - 0s 47us/step - loss: 295065.3996 - mean_absolute_error: 294627.8412\n",
      "Epoch 17/100\n",
      "6831/6831 [==============================] - ETA: 0s - loss: 295657.3695 - mean_absolute_error: 295203.517 - 0s 43us/step - loss: 295137.3278 - mean_absolute_error: 294686.2130\n",
      "Epoch 18/100\n",
      "6831/6831 [==============================] - 0s 52us/step - loss: 295627.6950 - mean_absolute_error: 295185.8269\n",
      "Epoch 19/100\n",
      "6831/6831 [==============================] - 0s 45us/step - loss: 295067.2714 - mean_absolute_error: 294622.0945\n",
      "Epoch 20/100\n",
      "6831/6831 [==============================] - 0s 42us/step - loss: 295186.5810 - mean_absolute_error: 294737.7823\n",
      "Epoch 21/100\n",
      "6831/6831 [==============================] - 0s 56us/step - loss: 295349.9344 - mean_absolute_error: 294907.5284\n",
      "Epoch 22/100\n",
      "6831/6831 [==============================] - 0s 50us/step - loss: 295612.2758 - mean_absolute_error: 295171.6227: 0s - loss: 308252.6651 - mean_absolute_error: 30781\n",
      "Epoch 23/100\n",
      "6831/6831 [==============================] - 0s 45us/step - loss: 295016.2639 - mean_absolute_error: 294570.3863\n",
      "Epoch 24/100\n",
      "6831/6831 [==============================] - 0s 52us/step - loss: 294986.2636 - mean_absolute_error: 294565.8975\n",
      "Epoch 25/100\n",
      "6831/6831 [==============================] - 0s 42us/step - loss: 295088.7772 - mean_absolute_error: 294652.3969\n",
      "Epoch 26/100\n",
      "6831/6831 [==============================] - 0s 45us/step - loss: 294963.5415 - mean_absolute_error: 294534.0930\n",
      "Epoch 27/100\n",
      "6831/6831 [==============================] - 0s 51us/step - loss: 295155.1070 - mean_absolute_error: 294728.0564\n",
      "Epoch 28/100\n",
      "6831/6831 [==============================] - 0s 50us/step - loss: 295104.7083 - mean_absolute_error: 294676.1035\n",
      "Epoch 29/100\n",
      "6831/6831 [==============================] - 0s 48us/step - loss: 295083.6289 - mean_absolute_error: 294654.3044\n",
      "Epoch 30/100\n",
      "6831/6831 [==============================] - 0s 50us/step - loss: 295172.0894 - mean_absolute_error: 294745.5684: 0s - loss: 300806.7866 - mean_absolute_error: 300380\n",
      "Epoch 31/100\n",
      "6831/6831 [==============================] - 0s 47us/step - loss: 295135.5409 - mean_absolute_error: 294703.1579\n",
      "Epoch 32/100\n",
      "6831/6831 [==============================] - 0s 44us/step - loss: 295491.4798 - mean_absolute_error: 295058.9588\n",
      "Epoch 33/100\n",
      "6831/6831 [==============================] - 0s 49us/step - loss: 295506.7268 - mean_absolute_error: 295062.3039\n",
      "Epoch 34/100\n",
      "6831/6831 [==============================] - 0s 45us/step - loss: 295320.5806 - mean_absolute_error: 294871.6664\n",
      "Epoch 35/100\n",
      "6831/6831 [==============================] - 0s 45us/step - loss: 294944.6577 - mean_absolute_error: 294505.0835\n",
      "Epoch 36/100\n",
      "6831/6831 [==============================] - 0s 48us/step - loss: 295030.1694 - mean_absolute_error: 294587.9778\n",
      "Epoch 37/100\n",
      "6831/6831 [==============================] - 0s 47us/step - loss: 295431.1848 - mean_absolute_error: 294988.4889\n",
      "Epoch 38/100\n",
      "6831/6831 [==============================] - 0s 45us/step - loss: 294913.4819 - mean_absolute_error: 294481.1744\n",
      "Epoch 39/100\n",
      "6831/6831 [==============================] - 0s 47us/step - loss: 295627.0386 - mean_absolute_error: 295200.5019\n",
      "Epoch 40/100\n",
      "6831/6831 [==============================] - 0s 47us/step - loss: 295199.8928 - mean_absolute_error: 294776.9158\n",
      "Epoch 41/100\n",
      "6831/6831 [==============================] - 0s 45us/step - loss: 295001.7849 - mean_absolute_error: 294565.6194\n",
      "Epoch 42/100\n",
      "6831/6831 [==============================] - 0s 54us/step - loss: 294817.0562 - mean_absolute_error: 294377.6878\n",
      "Epoch 43/100\n",
      "6831/6831 [==============================] - 0s 62us/step - loss: 295031.8001 - mean_absolute_error: 294595.2347\n",
      "Epoch 44/100\n",
      "6831/6831 [==============================] - 0s 45us/step - loss: 295455.8609 - mean_absolute_error: 295016.8084\n",
      "Epoch 45/100\n",
      "6831/6831 [==============================] - 0s 53us/step - loss: 294823.4607 - mean_absolute_error: 294379.0694\n",
      "Epoch 46/100\n",
      "6831/6831 [==============================] - 0s 58us/step - loss: 295317.0939 - mean_absolute_error: 294881.5659\n",
      "Epoch 47/100\n",
      "6831/6831 [==============================] - 0s 62us/step - loss: 295261.8101 - mean_absolute_error: 294819.3862\n",
      "Epoch 48/100\n",
      "6831/6831 [==============================] - 0s 64us/step - loss: 294932.6558 - mean_absolute_error: 294490.7863\n",
      "Epoch 49/100\n",
      "6831/6831 [==============================] - 0s 55us/step - loss: 295263.3089 - mean_absolute_error: 294830.4946\n",
      "Epoch 50/100\n",
      "6831/6831 [==============================] - 0s 57us/step - loss: 295288.8815 - mean_absolute_error: 294839.4280\n",
      "Epoch 51/100\n",
      "6831/6831 [==============================] - 0s 55us/step - loss: 294822.8938 - mean_absolute_error: 294386.1845\n",
      "Epoch 52/100\n",
      "6831/6831 [==============================] - 0s 46us/step - loss: 295008.7757 - mean_absolute_error: 294574.4875\n",
      "Epoch 53/100\n",
      "6831/6831 [==============================] - 0s 49us/step - loss: 295152.2925 - mean_absolute_error: 294716.5575\n",
      "Epoch 54/100\n",
      "6831/6831 [==============================] - 0s 41us/step - loss: 294674.8859 - mean_absolute_error: 294240.9541\n",
      "Epoch 55/100\n",
      "6831/6831 [==============================] - 0s 40us/step - loss: 295326.8447 - mean_absolute_error: 294893.6005\n",
      "Epoch 56/100\n",
      "6831/6831 [==============================] - 0s 44us/step - loss: 294835.1694 - mean_absolute_error: 294398.7816\n",
      "Epoch 57/100\n",
      "6831/6831 [==============================] - 0s 48us/step - loss: 295128.9969 - mean_absolute_error: 294705.2205\n",
      "Epoch 58/100\n",
      "6831/6831 [==============================] - 0s 41us/step - loss: 295201.3411 - mean_absolute_error: 294771.9158\n",
      "Epoch 59/100\n",
      "6831/6831 [==============================] - 0s 40us/step - loss: 294799.7119 - mean_absolute_error: 294357.2133\n",
      "Epoch 60/100\n",
      "6831/6831 [==============================] - 0s 49us/step - loss: 294831.0679 - mean_absolute_error: 294397.4003\n",
      "Epoch 61/100\n",
      "6831/6831 [==============================] - 0s 67us/step - loss: 295096.6365 - mean_absolute_error: 294657.6699\n",
      "Epoch 62/100\n",
      "6831/6831 [==============================] - 0s 63us/step - loss: 295508.8875 - mean_absolute_error: 295073.0786\n",
      "Epoch 63/100\n",
      "6831/6831 [==============================] - 0s 52us/step - loss: 294923.1229 - mean_absolute_error: 294499.2629\n",
      "Epoch 64/100\n",
      "6831/6831 [==============================] - 0s 56us/step - loss: 295238.8944 - mean_absolute_error: 294802.5070\n",
      "Epoch 65/100\n",
      "6831/6831 [==============================] - 0s 62us/step - loss: 295275.8610 - mean_absolute_error: 294837.7195\n",
      "Epoch 66/100\n",
      "6831/6831 [==============================] - 0s 41us/step - loss: 295036.1707 - mean_absolute_error: 294602.1567\n",
      "Epoch 67/100\n",
      "6831/6831 [==============================] - 0s 44us/step - loss: 294935.3190 - mean_absolute_error: 294504.3549\n",
      "Epoch 68/100\n",
      "6831/6831 [==============================] - 0s 45us/step - loss: 295211.8300 - mean_absolute_error: 294770.7128\n",
      "Epoch 69/100\n",
      "6831/6831 [==============================] - 0s 50us/step - loss: 294702.1793 - mean_absolute_error: 294256.6736\n",
      "Epoch 70/100\n",
      "6831/6831 [==============================] - 0s 45us/step - loss: 295212.1482 - mean_absolute_error: 294777.0510\n",
      "Epoch 71/100\n",
      "6831/6831 [==============================] - 0s 45us/step - loss: 294927.6198 - mean_absolute_error: 294496.8735\n",
      "Epoch 72/100\n",
      "6831/6831 [==============================] - 0s 38us/step - loss: 294831.6342 - mean_absolute_error: 294398.3103\n",
      "Epoch 73/100\n",
      "6831/6831 [==============================] - 0s 40us/step - loss: 294885.7506 - mean_absolute_error: 294457.0217\n",
      "Epoch 74/100\n",
      "6831/6831 [==============================] - 0s 61us/step - loss: 294585.2588 - mean_absolute_error: 294148.9972\n",
      "Epoch 75/100\n",
      "6831/6831 [==============================] - 0s 41us/step - loss: 295396.4173 - mean_absolute_error: 294968.4405\n",
      "Epoch 76/100\n",
      "6831/6831 [==============================] - 0s 44us/step - loss: 294899.7638 - mean_absolute_error: 294469.5049\n",
      "Epoch 77/100\n",
      "6831/6831 [==============================] - 0s 72us/step - loss: 295001.5611 - mean_absolute_error: 294584.5603\n",
      "Epoch 78/100\n",
      "6831/6831 [==============================] - 0s 49us/step - loss: 295078.1693 - mean_absolute_error: 294655.5437\n",
      "Epoch 79/100\n",
      "6831/6831 [==============================] - 0s 62us/step - loss: 294973.0526 - mean_absolute_error: 294550.9048: 0s - loss: 294104.5974 - mean_absolute_error: 293\n",
      "Epoch 80/100\n",
      "6831/6831 [==============================] - 0s 50us/step - loss: 294514.9044 - mean_absolute_error: 294083.8107\n",
      "Epoch 81/100\n",
      "6831/6831 [==============================] - 0s 50us/step - loss: 294948.7924 - mean_absolute_error: 294513.7594\n",
      "Epoch 82/100\n",
      "6831/6831 [==============================] - 0s 66us/step - loss: 295214.8152 - mean_absolute_error: 294781.8363\n",
      "Epoch 83/100\n",
      "6831/6831 [==============================] - 0s 45us/step - loss: 294779.4257 - mean_absolute_error: 294347.3690\n",
      "Epoch 84/100\n",
      "6831/6831 [==============================] - 0s 52us/step - loss: 294915.8648 - mean_absolute_error: 294469.9087\n",
      "Epoch 85/100\n",
      "6831/6831 [==============================] - 0s 51us/step - loss: 294902.8374 - mean_absolute_error: 294451.3125\n",
      "Epoch 86/100\n",
      "6831/6831 [==============================] - 0s 43us/step - loss: 294819.1064 - mean_absolute_error: 294383.3172\n",
      "Epoch 87/100\n",
      "6831/6831 [==============================] - 0s 56us/step - loss: 295038.8063 - mean_absolute_error: 294595.5049\n",
      "Epoch 88/100\n",
      "6831/6831 [==============================] - 0s 58us/step - loss: 295408.0482 - mean_absolute_error: 294961.8467\n",
      "Epoch 89/100\n",
      "6831/6831 [==============================] - 0s 47us/step - loss: 294980.9641 - mean_absolute_error: 294541.8845\n",
      "Epoch 90/100\n",
      "6831/6831 [==============================] - 0s 48us/step - loss: 295196.9259 - mean_absolute_error: 294769.0647\n",
      "Epoch 91/100\n",
      "6831/6831 [==============================] - 0s 53us/step - loss: 294967.8317 - mean_absolute_error: 294544.5540\n",
      "Epoch 92/100\n",
      "6831/6831 [==============================] - 0s 62us/step - loss: 294958.7807 - mean_absolute_error: 294527.6970\n",
      "Epoch 93/100\n",
      "6831/6831 [==============================] - 0s 63us/step - loss: 295023.4767 - mean_absolute_error: 294581.8000\n",
      "Epoch 94/100\n",
      "6831/6831 [==============================] - 0s 66us/step - loss: 294737.5740 - mean_absolute_error: 294310.9760\n",
      "Epoch 95/100\n",
      "6831/6831 [==============================] - 0s 64us/step - loss: 295248.0655 - mean_absolute_error: 294812.6596\n",
      "Epoch 96/100\n",
      "6831/6831 [==============================] - 0s 58us/step - loss: 294975.7310 - mean_absolute_error: 294554.1497\n",
      "Epoch 97/100\n",
      "6831/6831 [==============================] - 0s 49us/step - loss: 294819.1395 - mean_absolute_error: 294395.0174\n",
      "Epoch 98/100\n",
      "6831/6831 [==============================] - 0s 48us/step - loss: 295204.6545 - mean_absolute_error: 294774.8278\n",
      "Epoch 99/100\n",
      "6831/6831 [==============================] - 0s 49us/step - loss: 294798.1189 - mean_absolute_error: 294368.1412\n",
      "Epoch 100/100\n",
      "6831/6831 [==============================] - 0s 59us/step - loss: 294925.4373 - mean_absolute_error: 294492.8737\n"
     ]
    },
    {
     "data": {
      "text/plain": [
       "<keras.callbacks.History at 0x1cee192ffd0>"
      ]
     },
     "execution_count": 50,
     "metadata": {},
     "output_type": "execute_result"
    }
   ],
   "source": [
    "#baseline loss model\n",
    "baseline_loss_model = Sequential()\n",
    "baseline_loss_model.add(Dense(20, input_dim=X_test_loss.shape[1], activation = 'relu', kernel_initializer='normal', bias_initializer = 'zeros', kernel_regularizer = regularizers.l2(0.01)))\n",
    "baseline_loss_model.add(Dense(10, input_dim=20, activation = 'relu', kernel_initializer='normal', bias_initializer = 'zeros', kernel_regularizer = regularizers.l2(0.01)))\n",
    "baseline_loss_model.add(Dense(1, input_dim=10, activation = 'relu', kernel_initializer='normal', bias_initializer = 'zeros', kernel_regularizer = regularizers.l2(0.01)))\n",
    "\n",
    "# Compile model\n",
    "adam = keras.optimizers.Adam(lr=0.1, beta_1=0.9, beta_2=0.999, epsilon=None, decay=0.0, amsgrad=False)\n",
    "baseline_loss_model.compile(optimizer=adam, loss='mean_absolute_error', metrics = ['mae'])\n",
    "\n",
    "#train model\n",
    "baseline_loss_model.fit(X_train_loss, y_train_loss, epochs=100, verbose = 1)"
   ]
  },
  {
   "cell_type": "code",
   "execution_count": 51,
   "metadata": {},
   "outputs": [],
   "source": [
    "y_predict_loss = baseline_loss_model.predict(X_test_loss)"
   ]
  },
  {
   "cell_type": "code",
   "execution_count": 53,
   "metadata": {},
   "outputs": [
    {
     "name": "stderr",
     "output_type": "stream",
     "text": [
      "C:\\Users\\wille\\Anaconda2\\lib\\site-packages\\IPython\\core\\interactiveshell.py:3044: DtypeWarning: Columns (20,22,30) have mixed types. Specify dtype option on import or set low_memory=False.\n",
      "  interactivity=interactivity, compiler=compiler, result=result)\n"
     ]
    }
   ],
   "source": [
    "#Clean it up\n",
    "samples = pd.read_csv(\"NEWDATA.csv\")\n",
    "\n",
    "samples = samples.dropna(axis='columns')\n",
    "\n",
    "samples = samples.dropna(axis = 'rows')"
   ]
  },
  {
   "cell_type": "code",
   "execution_count": null,
   "metadata": {},
   "outputs": [],
   "source": [
    "#Generate versions for default\n",
    "V1_NUMERIC = ['GrossApproval', 'TermInMonths', 'LoanYear']\n",
    "\n",
    "V1_CATEGORICAL = ['ApprovalFiscalYear', 'BusinessType', 'BorrState']\n",
    "\n",
    "V1_LABEL = ['Default']\n",
    "\n",
    "V1_COLUMNS_USED = V1_NUMERIC + V1_CATEGORICAL + V1_LABEL"
   ]
  },
  {
   "cell_type": "code",
   "execution_count": null,
   "metadata": {},
   "outputs": [],
   "source": [
    "V1_data = samples.loc[:, V1_COLUMNS_USED]\n",
    "V1_data = V1_data.reset_index(drop=True)\n",
    "V1_data.shape"
   ]
  },
  {
   "cell_type": "code",
   "execution_count": null,
   "metadata": {},
   "outputs": [],
   "source": [
    "V1_df = V1_data.copy()"
   ]
  },
  {
   "cell_type": "code",
   "execution_count": null,
   "metadata": {},
   "outputs": [],
   "source": [
    "#One hot encoding\n",
    "columns=['ApprovalFiscalYear', 'BusinessType', 'BorrState']\n",
    "\n",
    "V1_df = pd.get_dummies(V1_df, columns=columns)\n",
    "V1_df.shape"
   ]
  },
  {
   "cell_type": "code",
   "execution_count": null,
   "metadata": {},
   "outputs": [],
   "source": [
    "V1_df = V1_df.apply(pd.to_numeric)"
   ]
  },
  {
   "cell_type": "code",
   "execution_count": null,
   "metadata": {},
   "outputs": [],
   "source": [
    "#Normalize\n",
    "normalize_cols = ['GrossApproval', 'TermInMonths', 'LoanYear']"
   ]
  },
  {
   "cell_type": "code",
   "execution_count": null,
   "metadata": {},
   "outputs": [],
   "source": [
    "V1_df[normalize_cols] = normalize(V1_df[normalize_cols], axis=0)"
   ]
  },
  {
   "cell_type": "code",
   "execution_count": null,
   "metadata": {},
   "outputs": [],
   "source": [
    "V1_df_X = V1_df.drop('Default', axis = 1)"
   ]
  },
  {
   "cell_type": "code",
   "execution_count": null,
   "metadata": {},
   "outputs": [],
   "source": [
    "V1_df_X.shape"
   ]
  },
  {
   "cell_type": "code",
   "execution_count": null,
   "metadata": {},
   "outputs": [],
   "source": [
    "sample_prob = baseline_default_model.predict(V1_df_X)"
   ]
  },
  {
   "cell_type": "code",
   "execution_count": null,
   "metadata": {},
   "outputs": [],
   "source": [
    "#Generate versions for loss\n",
    "V2_NUMERIC = ['GrossApproval', 'TermInMonths', 'AgeAtDefault']\n",
    "\n",
    "V2_CATEGORICAL = ['BusinessType', 'ApprovalFiscalYear']\n",
    "\n",
    "V2_LABEL = ['GrossChargeOffAmount']\n",
    "\n",
    "V2_COLUMNS_USED = V2_NUMERIC + V2_CATEGORICAL + V2_LABEL"
   ]
  },
  {
   "cell_type": "code",
   "execution_count": null,
   "metadata": {},
   "outputs": [],
   "source": [
    "V2_data = samples.loc[:, V2_COLUMNS_USED]\n",
    "V2_data = V2_data.reset_index(drop=True)\n",
    "V2_data.shape"
   ]
  },
  {
   "cell_type": "code",
   "execution_count": null,
   "metadata": {},
   "outputs": [],
   "source": [
    "V2_df = V2_data.copy()"
   ]
  },
  {
   "cell_type": "code",
   "execution_count": null,
   "metadata": {},
   "outputs": [],
   "source": [
    "#One hot encoding\n",
    "columns=['BusinessType', 'ApprovalFiscalYear']\n",
    "\n",
    "V2_df = pd.get_dummies(V2_df, columns=columns)\n",
    "V2_df.shape"
   ]
  },
  {
   "cell_type": "code",
   "execution_count": null,
   "metadata": {},
   "outputs": [],
   "source": [
    "V2_df = V2_df.apply(pd.to_numeric)"
   ]
  },
  {
   "cell_type": "code",
   "execution_count": null,
   "metadata": {},
   "outputs": [],
   "source": [
    "#Normalize\n",
    "normalize_cols = ['GrossApproval', 'TermInMonths', 'AgeAtDefault']"
   ]
  },
  {
   "cell_type": "code",
   "execution_count": null,
   "metadata": {},
   "outputs": [],
   "source": [
    "V2_df[normalize_cols] = normalize(V2_df[normalize_cols], axis=0)"
   ]
  },
  {
   "cell_type": "code",
   "execution_count": null,
   "metadata": {},
   "outputs": [],
   "source": [
    "V2_df_X = V2_df.drop(['GrossChargeOffAmount', 'ApprovalFiscalYear_2013', 'ApprovalFiscalYear_2014'], axis = 1)"
   ]
  },
  {
   "cell_type": "code",
   "execution_count": null,
   "metadata": {},
   "outputs": [],
   "source": [
    "V2_df_X.head()"
   ]
  },
  {
   "cell_type": "code",
   "execution_count": null,
   "metadata": {},
   "outputs": [],
   "source": [
    "sample_default = baseline_loss_model.predict(V2_df_X)"
   ]
  },
  {
   "cell_type": "code",
   "execution_count": null,
   "metadata": {},
   "outputs": [],
   "source": [
    "a = np.array(sample_prob)\n",
    "b = np.array(sample_default)\n",
    "joined = np.column_stack((a,b))"
   ]
  },
  {
   "cell_type": "code",
   "execution_count": null,
   "metadata": {},
   "outputs": [],
   "source": [
    "#sample\n",
    "idx = np.random.randint(1492889, size=500)\n",
    "sampled_joined = joined[idx,:]\n",
    "matrixed = samples.as_matrix(columns = ['GrossApproval'])\n",
    "amount_sampled = matrixed[idx,:]"
   ]
  },
  {
   "cell_type": "code",
   "execution_count": null,
   "metadata": {},
   "outputs": [],
   "source": [
    "#Finally, simulate\n",
    "total = np.sum(amount_sampled)\n",
    "distribution_vector_1yr = []\n",
    "\n",
    "for i in range (0,10000):\n",
    "    sum = 0\n",
    "    for j in range(0,500):\n",
    "        rand = np.random.uniform(0,1)\n",
    "        if rand < sampled_joined[j][0]/20:\n",
    "            sum += sampled_joined[j][1]\n",
    "    distribution_vector.append(sum/total)\n",
    "    \n",
    "distribution_vector_5yr = []\n",
    "for i in range (0,10000):\n",
    "    sum = 0\n",
    "    for j in range(0,500):\n",
    "        rand = np.random.uniform(0,1)\n",
    "        if rand < (1 - (1-(sampled_joined[j][0]/20))**5):\n",
    "            sum += sampled_joined[j][1]\n",
    "    distribution_vector_5yr.append(sum/total)"
   ]
  },
  {
   "cell_type": "code",
   "execution_count": null,
   "metadata": {},
   "outputs": [],
   "source": [
    "total = np.sum(amount_sampled)\n",
    "distribution_vector_1yr = []\n",
    "        \n",
    "for i in range (0,2000):\n",
    "    sum = 0\n",
    "    for j in range(0,500):\n",
    "        rand = np.random.uniform(0,1)\n",
    "        if rand > sampled_joined[j][0]:\n",
    "            sum += sampled_joined[j][1]\n",
    "    distribution_vector_1yr.append(sum/(total*7))"
   ]
  },
  {
   "cell_type": "code",
   "execution_count": null,
   "metadata": {},
   "outputs": [],
   "source": [
    "plt.hist(distribution_vector_1yr)"
   ]
  },
  {
   "cell_type": "code",
   "execution_count": null,
   "metadata": {},
   "outputs": [],
   "source": [
    "plt.hist(distribution_vector_5yr)"
   ]
  },
  {
   "cell_type": "code",
   "execution_count": null,
   "metadata": {},
   "outputs": [],
   "source": [
    "five_tranch_loss_1yr = []\n",
    "five_tranch_loss_5yr = []\n",
    "fifteen_tranch_loss_1yr = []\n",
    "fifteen_tranch_loss_5yr = []\n",
    "\n",
    "for j in range(0,500):\n",
    "    if distribution_vector_1yr[j] > 0.05:\n",
    "        five_tranch_loss_1yr.append(1)\n",
    "    else:\n",
    "        five_tranch_loss_1yr.append(distribution_vector_1yr[j]/0.05)\n",
    "    if distribution_vector_5yr[j] > 0.05:\n",
    "        five_tranch_loss_5yr.append(1)\n",
    "    else:\n",
    "        five_tranch_loss_5yr.append(distribution_vector_5yr[j]/0.05)\n",
    "    if distribution_vector_1yr[j] > 0.15:\n",
    "        fifteen_tranch_loss_1yr.append(1)\n",
    "    else:\n",
    "        fifteen_tranch_loss_1yr.append((distribution_vector_1yr[j]-0.05)/0.15)\n",
    "    if distribution_vector_5yr[j] > 0.15:\n",
    "        fifteen_tranch_loss_5yr.append(1)\n",
    "    else:\n",
    "        fifteen_tranch_loss_5yr.append((distribution_vector_5yr[j]-0.05)/0.15)"
   ]
  },
  {
   "cell_type": "code",
   "execution_count": null,
   "metadata": {},
   "outputs": [],
   "source": [
    "plt.hist(five_tranch_loss_1yr)"
   ]
  },
  {
   "cell_type": "code",
   "execution_count": null,
   "metadata": {},
   "outputs": [],
   "source": [
    "plt.hist(five_tranch_loss_5yr)"
   ]
  },
  {
   "cell_type": "code",
   "execution_count": null,
   "metadata": {},
   "outputs": [],
   "source": [
    "plt.hist(fifteen_tranch_loss_1yr)"
   ]
  },
  {
   "cell_type": "code",
   "execution_count": null,
   "metadata": {},
   "outputs": [],
   "source": [
    "plt.hist(fifteen_tranch_loss_5yr)"
   ]
  },
  {
   "cell_type": "code",
   "execution_count": null,
   "metadata": {},
   "outputs": [],
   "source": [
    "np.percentile(distribution_vector_1yr, 95)"
   ]
  },
  {
   "cell_type": "code",
   "execution_count": null,
   "metadata": {},
   "outputs": [],
   "source": [
    "np.percentile(distribution_vector_1yr, 99)"
   ]
  },
  {
   "cell_type": "code",
   "execution_count": null,
   "metadata": {},
   "outputs": [],
   "source": [
    "np.percentile(distribution_vector_5yr, 95)"
   ]
  },
  {
   "cell_type": "code",
   "execution_count": null,
   "metadata": {},
   "outputs": [],
   "source": [
    "np.percentile(distribution_vector_5yr, 99)"
   ]
  },
  {
   "cell_type": "code",
   "execution_count": null,
   "metadata": {},
   "outputs": [],
   "source": [
    "np.average(distribution_vector_1yr > 0.00467125064100879)"
   ]
  },
  {
   "cell_type": "code",
   "execution_count": null,
   "metadata": {},
   "outputs": [],
   "source": [
    "store_1 = []\n",
    "store_2 = []\n",
    "store_3 = []\n",
    "store_4 = []\n",
    "for i in range(0,500):\n",
    "    if distribution_vector_1yr[i] > 0.00467125064100878:\n",
    "        store_1.append(distribution_vector_1yr[i])\n",
    "    if distribution_vector_1yr[i] > 0.005067073867793143:\n",
    "        store_2.append(distribution_vector_1yr[i])\n",
    "    if distribution_vector_5yr[i] > 0.013011177498148397:\n",
    "        store_3.append(distribution_vector_5yr[i])\n",
    "    if distribution_vector_5yr[i] > 0.014543518428203541:\n",
    "        store_4.append(distribution_vector_5yr[i])"
   ]
  },
  {
   "cell_type": "code",
   "execution_count": null,
   "metadata": {},
   "outputs": [],
   "source": [
    "np.average(store_1)"
   ]
  },
  {
   "cell_type": "code",
   "execution_count": null,
   "metadata": {},
   "outputs": [],
   "source": [
    "np.average(store_2)"
   ]
  },
  {
   "cell_type": "code",
   "execution_count": null,
   "metadata": {},
   "outputs": [],
   "source": [
    "np.average(store_3)"
   ]
  },
  {
   "cell_type": "code",
   "execution_count": null,
   "metadata": {},
   "outputs": [],
   "source": [
    "np.average(store_4)"
   ]
  },
  {
   "cell_type": "code",
   "execution_count": null,
   "metadata": {},
   "outputs": [],
   "source": []
  }
 ],
 "metadata": {
  "kernelspec": {
   "display_name": "Python 3",
   "language": "python",
   "name": "python3"
  },
  "language_info": {
   "codemirror_mode": {
    "name": "ipython",
    "version": 3
   },
   "file_extension": ".py",
   "mimetype": "text/x-python",
   "name": "python",
   "nbconvert_exporter": "python",
   "pygments_lexer": "ipython3",
   "version": "3.7.6"
  }
 },
 "nbformat": 4,
 "nbformat_minor": 2
}
